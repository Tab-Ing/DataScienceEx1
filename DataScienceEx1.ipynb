{
 "cells": [
  {
   "cell_type": "code",
   "execution_count": 1,
   "metadata": {},
   "outputs": [
    {
     "name": "stdout",
     "output_type": "stream",
     "text": [
      "todos son iguales\n",
      "hay diferencias\n"
     ]
    }
   ],
   "source": [
    "import pandas as pd\n",
    "#Esto es un comentario\n",
    "a = 1\n",
    "b, c = 1, 1\n",
    "for i in range(1, 3):\n",
    "    if  a==b and b==c:\n",
    "        print(\"todos son iguales\")\n",
    "    else:\n",
    "        print(\"hay diferencias\")\n",
    "    c = b + a"
   ]
  },
  {
   "attachments": {},
   "cell_type": "markdown",
   "metadata": {},
   "source": [
    "## Descripción\n",
    "\n",
    "### Objetivos\n",
    "\n",
    "El objetivo de este archivo es simplemente usar el lenguaje python y markdown sobre el notebook Jupyter."
   ]
  },
  {
   "attachments": {},
   "cell_type": "markdown",
   "metadata": {},
   "source": [
    "### Importación de archivos\n",
    "\n",
    "Archivos subidos por MRPANTHERSON en Kaggle.com"
   ]
  },
  {
   "cell_type": "code",
   "execution_count": 5,
   "metadata": {},
   "outputs": [
    {
     "name": "stdout",
     "output_type": "stream",
     "text": [
      "         Country Name        1960        1961        1962        1963  \\\n",
      "0               Aruba     54208.0     55435.0     56226.0     56697.0   \n",
      "1             Andorra     13414.0     14376.0     15376.0     16410.0   \n",
      "2         Afghanistan   8994793.0   9164945.0   9343772.0   9531555.0   \n",
      "3              Angola   5270844.0   5367287.0   5465905.0   5565808.0   \n",
      "4             Albania   1608800.0   1659800.0   1711319.0   1762621.0   \n",
      "..                ...         ...         ...         ...         ...   \n",
      "259       Yemen, Rep.   5166311.0   5251663.0   5339285.0   5429501.0   \n",
      "260      South Africa  17396000.0  17949962.0  18459442.0  18936138.0   \n",
      "261  Congo, Dem. Rep.  15248246.0  15637715.0  16041247.0  16461914.0   \n",
      "262            Zambia   3049586.0   3142848.0   3240664.0   3342894.0   \n",
      "263          Zimbabwe   3752390.0   3876638.0   4006262.0   4140804.0   \n",
      "\n",
      "           1964        1965        1966        1967        1968  ...  \\\n",
      "0       57029.0     57360.0     57712.0     58049.0     58385.0  ...   \n",
      "1       17470.0     18551.0     19646.0     20755.0     21888.0  ...   \n",
      "2     9728645.0   9935358.0  10148841.0  10368600.0  10599790.0  ...   \n",
      "3     5665701.0   5765025.0   5863568.0   5962831.0   6066094.0  ...   \n",
      "4     1814135.0   1864791.0   1914573.0   1965598.0   2022272.0  ...   \n",
      "..          ...         ...         ...         ...         ...  ...   \n",
      "259   5522690.0   5619170.0   5720538.0   5827223.0   5937125.0  ...   \n",
      "260  19390554.0  19832000.0  20268594.0  20707258.0  21153722.0  ...   \n",
      "261  16903899.0  17369859.0  17861860.0  18378189.0  18913177.0  ...   \n",
      "262   3449266.0   3559687.0   3674088.0   3792864.0   3916928.0  ...   \n",
      "263   4279561.0   4422132.0   4568320.0   4718612.0   4874113.0  ...   \n",
      "\n",
      "           2006        2007        2008        2009        2010        2011  \\\n",
      "0      100830.0    101218.0    101342.0    101416.0    101597.0    101936.0   \n",
      "1       83373.0     84878.0     85616.0     85474.0     84419.0     82326.0   \n",
      "2    25183615.0  25877544.0  26528741.0  27207291.0  27962207.0  28809167.0   \n",
      "3    18541467.0  19183907.0  19842251.0  20520103.0  21219954.0  21942296.0   \n",
      "4     2992547.0   2970017.0   2947314.0   2927519.0   2913021.0   2904780.0   \n",
      "..          ...         ...         ...         ...         ...         ...   \n",
      "259  21093973.0  21701105.0  22322699.0  22954226.0  23591972.0  24234940.0   \n",
      "260  47921682.0  48596781.0  49296223.0  50020918.0  50771826.0  51549958.0   \n",
      "261  57926840.0  59834875.0  61809278.0  63845097.0  65938712.0  68087376.0   \n",
      "262  12381509.0  12738676.0  13114579.0  13507849.0  13917439.0  14343526.0   \n",
      "263  13127942.0  13297798.0  13495462.0  13720997.0  13973897.0  14255592.0   \n",
      "\n",
      "           2012        2013        2014        2015  \n",
      "0      102393.0    102921.0    103441.0    103889.0  \n",
      "1       79316.0     75902.0     72786.0     70473.0  \n",
      "2    29726803.0  30682500.0  31627506.0  32526562.0  \n",
      "3    22685632.0  23448202.0  24227524.0  25021974.0  \n",
      "4     2900247.0   2896652.0   2893654.0   2889167.0  \n",
      "..          ...         ...         ...         ...  \n",
      "259  24882792.0  25533217.0  26183676.0  26832215.0  \n",
      "260  52356381.0  53192216.0  54058647.0  54956920.0  \n",
      "261  70291160.0  72552861.0  74877030.0  77266814.0  \n",
      "262  14786581.0  15246086.0  15721343.0  16211767.0  \n",
      "263  14565482.0  14898092.0  15245855.0  15602751.0  \n",
      "\n",
      "[264 rows x 57 columns]\n",
      "      Unnamed: 0        band_name  fans formed          origin split  \\\n",
      "0              0      Iron Maiden  4195   1975  United Kingdom     -   \n",
      "1              1            Opeth  4147   1990          Sweden  1990   \n",
      "2              2        Metallica  3712   1981             USA     -   \n",
      "3              3         Megadeth  3105   1983             USA  1983   \n",
      "4              4      Amon Amarth  3054   1988          Sweden     -   \n",
      "...          ...              ...   ...    ...             ...   ...   \n",
      "4995        4995            Atara     0   2006          France  2006   \n",
      "4996        4996       Avicularia     0   2003         Croatia     -   \n",
      "4997        4997            Awake     0   2006  United Kingdom  2006   \n",
      "4998        4998           Axatak     0   1983       Australia  1988   \n",
      "4999        4999  Axis Of Despair     0   2014          Sweden  2014   \n",
      "\n",
      "                                                 style  \n",
      "0                      New wave of british heavy,Heavy  \n",
      "1     Extreme progressive,Progressive rock,Progressive  \n",
      "2                                Heavy,Bay area thrash  \n",
      "3                               Thrash,Heavy,Hard rock  \n",
      "4                                        Melodic death  \n",
      "...                                                ...  \n",
      "4995                                   Black,Grindcore  \n",
      "4996                                  Avantgarde death  \n",
      "4997                                 Heavy,Progressive  \n",
      "4998                                   Hard rock,Heavy  \n",
      "4999                                         Grindcore  \n",
      "\n",
      "[5000 rows x 7 columns]\n"
     ]
    }
   ],
   "source": [
    "\n",
    "\n",
    "# Any results you write to the current directory are saved as output.\n",
    "world = pd.read_csv('./input/world_population_1960_2015.csv', encoding='latin-1')\n",
    "bands = pd.read_csv('./input/metal_bands_2017.csv', encoding='latin-1')\n",
    "print(str(world))\n",
    "print(str(bands))"
   ]
  },
  {
   "attachments": {},
   "cell_type": "markdown",
   "metadata": {},
   "source": [
    "Extraigamos algunos datos de las tablas"
   ]
  },
  {
   "cell_type": "code",
   "execution_count": 21,
   "metadata": {},
   "outputs": [
    {
     "name": "stdout",
     "output_type": "stream",
     "text": [
      "tamaño: 35000\n",
      "encabezados: Index(['Unnamed: 0', 'band_name', 'fans', 'formed', 'origin', 'split',\n",
      "       'style'],\n",
      "      dtype='object')bandas y fans: 0           Iron Maiden\n",
      "1                 Opeth\n",
      "2             Metallica\n",
      "3              Megadeth\n",
      "4           Amon Amarth\n",
      "             ...       \n",
      "4995              Atara\n",
      "4996         Avicularia\n",
      "4997              Awake\n",
      "4998             Axatak\n",
      "4999    Axis Of Despair\n",
      "Name: band_name, Length: 5000, dtype: object0       4195\n",
      "1       4147\n",
      "2       3712\n",
      "3       3105\n",
      "4       3054\n",
      "        ... \n",
      "4995       0\n",
      "4996       0\n",
      "4997       0\n",
      "4998       0\n",
      "4999       0\n",
      "Name: fans, Length: 5000, dtype: int64\n"
     ]
    }
   ],
   "source": [
    "bands_size = bands.size\n",
    "bands_cols = bands.columns\n",
    "band_names, band_fans = bands[bands_cols[1]], bands[bands_cols[2]]\n",
    "print('tamaño: '+ str(bands_size) + '\\n' \n",
    "      + 'encabezados: ' + str(bands_cols)\n",
    "      + 'bandas y fans: ' + str(band_names) + str(band_fans))\n"
   ]
  },
  {
   "attachments": {},
   "cell_type": "markdown",
   "metadata": {},
   "source": [
    "Unamos cada banda con sus fans y probemos ordenarlos"
   ]
  },
  {
   "cell_type": "code",
   "execution_count": 47,
   "metadata": {},
   "outputs": [
    {
     "ename": "TypeError",
     "evalue": "'str' object is not callable",
     "output_type": "error",
     "traceback": [
      "\u001b[1;31m---------------------------------------------------------------------------\u001b[0m",
      "\u001b[1;31mTypeError\u001b[0m                                 Traceback (most recent call last)",
      "Cell \u001b[1;32mIn[47], line 7\u001b[0m\n\u001b[0;32m      5\u001b[0m     fans_by_band\u001b[39m.\u001b[39mappend({\u001b[39m'\u001b[39m\u001b[39mid\u001b[39m\u001b[39m'\u001b[39m:i, \u001b[39m'\u001b[39m\u001b[39mband_name\u001b[39m\u001b[39m'\u001b[39m:band_name, \u001b[39m'\u001b[39m\u001b[39mfans\u001b[39m\u001b[39m'\u001b[39m:fans})\n\u001b[0;32m      6\u001b[0m fans_by_band\n\u001b[1;32m----> 7\u001b[0m order_more_fans \u001b[39m=\u001b[39m fans_by_band\u001b[39m.\u001b[39;49msort(key\u001b[39m=\u001b[39;49m\u001b[39m'\u001b[39;49m\u001b[39mid\u001b[39;49m\u001b[39m'\u001b[39;49m , reverse\u001b[39m=\u001b[39;49m \u001b[39mTrue\u001b[39;49;00m)\n",
      "\u001b[1;31mTypeError\u001b[0m: 'str' object is not callable"
     ]
    }
   ],
   "source": [
    "fans_by_band = [{}]\n",
    "for i in range(len(band_names)):\n",
    "    band_name = band_names[i]\n",
    "    fans = band_fans[i]\n",
    "    fans_by_band.append({'id':i, 'band_name':band_name, 'fans':fans})\n",
    "fans_by_band\n",
    "order_more_fans = fans_by_band.sort(key='id' , reverse= True)"
   ]
  }
 ],
 "metadata": {
  "kernelspec": {
   "display_name": "Python 3",
   "language": "python",
   "name": "python3"
  },
  "language_info": {
   "codemirror_mode": {
    "name": "ipython",
    "version": 3
   },
   "file_extension": ".py",
   "mimetype": "text/x-python",
   "name": "python",
   "nbconvert_exporter": "python",
   "pygments_lexer": "ipython3",
   "version": "3.11.2"
  },
  "orig_nbformat": 4,
  "vscode": {
   "interpreter": {
    "hash": "34623136939ccd3b506aebf4b1948f752aa8cc46e132ef8d181e4b2759610505"
   }
  }
 },
 "nbformat": 4,
 "nbformat_minor": 2
}
