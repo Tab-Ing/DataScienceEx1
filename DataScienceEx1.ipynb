{
 "cells": [
  {
   "cell_type": "code",
   "execution_count": 1,
   "metadata": {},
   "outputs": [
    {
     "name": "stdout",
     "output_type": "stream",
     "text": [
      "todos son iguales\n",
      "hay diferencias\n"
     ]
    }
   ],
   "source": [
    "#Esto es un comentario\n",
    "a = 1\n",
    "b, c = 1, 1\n",
    "for i in range(1, 3):\n",
    "    if  a==b and b==c:\n",
    "        print(\"todos son iguales\")\n",
    "    else:\n",
    "        print(\"hay diferencias\")\n",
    "    c = b + a"
   ]
  },
  {
   "attachments": {},
   "cell_type": "markdown",
   "metadata": {},
   "source": [
    "## Descripción\n",
    "\n",
    "### Objetivos\n",
    "\n",
    "El objetivo de este archivo es simplemente usar el lenguaje python y markdown sobre el notebook Jupyter."
   ]
  }
 ],
 "metadata": {
  "kernelspec": {
   "display_name": "Python 3",
   "language": "python",
   "name": "python3"
  },
  "language_info": {
   "codemirror_mode": {
    "name": "ipython",
    "version": 3
   },
   "file_extension": ".py",
   "mimetype": "text/x-python",
   "name": "python",
   "nbconvert_exporter": "python",
   "pygments_lexer": "ipython3",
   "version": "3.11.2"
  },
  "orig_nbformat": 4
 },
 "nbformat": 4,
 "nbformat_minor": 2
}
